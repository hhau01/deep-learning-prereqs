{
 "cells": [
  {
   "cell_type": "markdown",
   "metadata": {},
   "source": [
    "## The Apply Function"
   ]
  },
  {
   "cell_type": "markdown",
   "metadata": {},
   "source": [
    "- What if we want to assign a new column value where each cell is derived from the values already in its row?\n",
    "\n",
    "- Ex. Model interaction between X1 and X2 -> X1*X2\n",
    "\n",
    "- We use the apply function!\n",
    "\n",
    "*df[ 'x1x2' ] = df.apply(lambda row: row[ 'x1' ] &ast; row[ 'x2' ], axis=1)*\n",
    "\n",
    "- Pass in axis=1 so the function gets applied across each row instead of each column\n",
    "\n",
    "- Think of it like Python's map function\n",
    "\n",
    "- If you're not familiar with lambda, this is equivalent:\n",
    "\n",
    "```\n",
    "def get_interaction(row):\n",
    "    return row['x1']*row['x2']\n",
    "```\n",
    "\n",
    "*df[ 'x1x2' ] = df.apply(get_interaction, axis=1)*\n",
    "\n",
    "- Function you pass in takes 1 argument, the row\n",
    "\n",
    "- Equivalent to:\n",
    "\n",
    "```\n",
    "interactions = []\n",
    "\n",
    "for idx, row in df.iterrows():\n",
    "    x1x2 = row['x1']*row['x2']\n",
    "    interactions.append(x1x2)\n",
    "\n",
    "df['x1x2'] = interactions\n",
    "```\n",
    "\n",
    "- Never actually do this because for loops are very slow"
   ]
  },
  {
   "cell_type": "code",
   "execution_count": 1,
   "metadata": {
    "collapsed": true
   },
   "outputs": [],
   "source": [
    "import pandas as pd\n",
    "\n",
    "# skipfooter does not work with default engine which is in C,\n",
    "# which is why we pass in engine=\"python\"\n",
    "df = pd.read_csv(\"international-airline-passengers.csv\", engine=\"python\", skipfooter=3)\n",
    "\n",
    "# change column names\n",
    "df.columns = [\"month\", \"passengers\"]\n",
    "df.columns\n",
    "\n",
    "# add a ones column with all 1's\n",
    "df['ones'] = 1"
   ]
  },
  {
   "cell_type": "code",
   "execution_count": 2,
   "metadata": {
    "collapsed": false
   },
   "outputs": [
    {
     "data": {
      "text/plain": [
       "datetime.datetime(1949, 5, 1, 0, 0)"
      ]
     },
     "execution_count": 2,
     "metadata": {},
     "output_type": "execute_result"
    }
   ],
   "source": [
    "from datetime import datetime\n",
    "\n",
    "datetime.strptime(\"1949-05\", \"%Y-%m\")"
   ]
  },
  {
   "cell_type": "code",
   "execution_count": 3,
   "metadata": {
    "collapsed": false
   },
   "outputs": [
    {
     "name": "stdout",
     "output_type": "stream",
     "text": [
      "<class 'pandas.core.frame.DataFrame'>\n",
      "RangeIndex: 144 entries, 0 to 143\n",
      "Data columns (total 4 columns):\n",
      "month         144 non-null object\n",
      "passengers    144 non-null int64\n",
      "ones          144 non-null int64\n",
      "dt            144 non-null datetime64[ns]\n",
      "dtypes: datetime64[ns](1), int64(2), object(1)\n",
      "memory usage: 4.6+ KB\n"
     ]
    }
   ],
   "source": [
    "df['dt'] = df.apply(lambda row: datetime.strptime(row['month'], \"%Y-%m\"), axis=1)\n",
    "df.info()"
   ]
  },
  {
   "cell_type": "code",
   "execution_count": null,
   "metadata": {
    "collapsed": true
   },
   "outputs": [],
   "source": []
  }
 ],
 "metadata": {
  "kernelspec": {
   "display_name": "Python [default]",
   "language": "python",
   "name": "python3"
  },
  "language_info": {
   "codemirror_mode": {
    "name": "ipython",
    "version": 3
   },
   "file_extension": ".py",
   "mimetype": "text/x-python",
   "name": "python",
   "nbconvert_exporter": "python",
   "pygments_lexer": "ipython3",
   "version": "3.5.2"
  }
 },
 "nbformat": 4,
 "nbformat_minor": 2
}
